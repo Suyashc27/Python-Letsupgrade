{
 "cells": [
  {
   "cell_type": "markdown",
   "metadata": {},
   "source": [
    "# Name: Suyash Choudhari         \n",
    "# Assignment No.:- 01"
   ]
  },
  {
   "cell_type": "code",
   "execution_count": 12,
   "metadata": {},
   "outputs": [
    {
     "name": "stdout",
     "output_type": "stream",
     "text": [
      "['python', 'c', 'c++', 'java', 'php']\n",
      "c\n",
      "java\n",
      "php\n"
     ]
    }
   ],
   "source": [
    "# Lists in python\n",
    "\n",
    "list = [\"python\",\"c\",\"c++\",\"java\",\"php\"]\n",
    "print(list)\n",
    "print(list[1])\n",
    "print(list[3])\n",
    "print(list[-1])"
   ]
  },
  {
   "cell_type": "code",
   "execution_count": 38,
   "metadata": {},
   "outputs": [
    {
     "name": "stdout",
     "output_type": "stream",
     "text": [
      "append : ['python', 'c', 'c++', 'java', 'php', 'html']\n",
      "insert : ['python', 'julia', 'c', 'c++', 'java', 'php', 'html']\n",
      "extend : ['python', 'julia', 'c', 'c++', 'java', 'php', 'html', 'ruby', 'R']\n",
      "remove : ['python', 'julia', 'c', 'c++', 'java', 'php', 'html', 'ruby']\n",
      "pop : ['python', 'julia', 'c', 'c++', 'java', 'php', 'html']\n",
      "pop(5) : ['python', 'julia', 'c', 'c++', 'java', 'html']\n",
      "sort : ['c', 'c++', 'html', 'java', 'julia', 'python']\n",
      "reverse : ['python', 'julia', 'java', 'html', 'c++', 'c']\n",
      "count : 1\n",
      "index : 0\n",
      "copy : ['python', 'julia', 'java', 'html', 'c++', 'c']\n",
      "[]\n"
     ]
    }
   ],
   "source": [
    "list = [\"python\",\"c\",\"c++\",\"java\",\"php\"]\n",
    "list.append(\"html\")\n",
    "print(\"append :\",list)\n",
    "\n",
    "list.insert(1,\"julia\")\n",
    "print(\"insert :\",list)\n",
    "\n",
    "list.extend([\"ruby\",\"R\"])\n",
    "print(\"extend :\",list)\n",
    "\n",
    "list.remove(\"R\")\n",
    "print(\"remove :\",list)\n",
    "\n",
    "list.pop()\n",
    "print(\"pop :\",list)\n",
    "\n",
    "list.pop(5)\n",
    "print(\"pop(5) :\",list)\n",
    "\n",
    "list.sort()\n",
    "print(\"sort :\",list)\n",
    "\n",
    "list.reverse()\n",
    "print(\"reverse :\",list)\n",
    "\n",
    "print(\"count :\",list.count(\"c\"))\n",
    "\n",
    "print(\"index :\",list.index(\"python\"))\n",
    "\n",
    "list1 = list.copy()\n",
    "print(\"copy :\",list1)\n",
    "\n",
    "list.clear()\n",
    "print(list)\n",
    "\n"
   ]
  },
  {
   "cell_type": "code",
   "execution_count": 57,
   "metadata": {},
   "outputs": [
    {
     "name": "stdout",
     "output_type": "stream",
     "text": [
      "{1: 'python', 2: 'julia', 3: 'c', 4: 'c++', 5: 'java'}\n",
      "keys : dict_keys([1, 2, 3, 4, 5])\n",
      "update : {1: 'julia', 2: 'python', 3: 'c', 4: 'c++', 5: 'java'}\n",
      "get : c\n",
      "intial_list : {1: 'julia', 2: 'python', 3: 'c', 4: 'c++', 5: 'java'}\n",
      "pop : c++\n",
      "{1: 'julia', 2: 'python', 3: 'c', 5: 'java'}\n",
      "copy : {1: 'julia', 2: 'python', 3: 'c', 5: 'java'}\n",
      "values : dict_values(['julia', 'python', 'c', 'java'])\n",
      "pop_item : (5, 'java')\n",
      "{1: 'julia', 2: 'python', 3: 'c'}\n",
      "clear : {}\n",
      "setdefault : python\n",
      "Dictionary items : dict_items([(1, 'julia'), (2, 'python'), (3, 'c')])\n"
     ]
    }
   ],
   "source": [
    "# Dictionary in python\n",
    "\n",
    "dict = {1: 'python',2: 'julia',3: 'c',4: 'c++',5 :'java'}\n",
    "print(dict)\n",
    "\n",
    "print(\"keys :\",dict.keys())\n",
    "\n",
    "dict1 = {1: 'julia',2: 'python'}\n",
    "dict.update(dict1)\n",
    "print(\"update :\",dict)\n",
    "\n",
    "print(\"get :\",dict.get(3))\n",
    "print(\"intial_list :\",dict)\n",
    "\n",
    "print(\"pop :\",dict.pop(4))\n",
    "print(dict)\n",
    "\n",
    "new = dict.copy()\n",
    "print(\"copy :\",new)\n",
    "\n",
    "print(\"values :\",dict.values())\n",
    "\n",
    "print(\"pop_item :\",dict.popitem())\n",
    "print(dict)\n",
    "\n",
    "new.clear()\n",
    "print(\"clear :\",new)\n",
    "\n",
    "print(\"setdefault :\",dict.setdefault(2))\n",
    "\n",
    "print(\"Dictionary items :\",dict.items()) "
   ]
  },
  {
   "cell_type": "code",
   "execution_count": 74,
   "metadata": {},
   "outputs": [
    {
     "name": "stdout",
     "output_type": "stream",
     "text": [
      "{'java', 'julia', 'python'}\n",
      "{'java', 'c', 'julia', 'python'}\n",
      "frozenset({'ruby', 'c++', 'php'})\n",
      "set()\n",
      "{'java', 'julia', 'python'}\n",
      "{'julia', 'python'}\n",
      "{'julia', 'python'}\n"
     ]
    }
   ],
   "source": [
    "#sets in python\n",
    "\n",
    "newset = set([\"julia\", \"python\", \"java\"]) \n",
    "print(newset)\n",
    "\n",
    "newset.add(\"c\")\n",
    "print(newset)\n",
    "\n",
    "newset.difference(\"c\")\n",
    "\n",
    "frozen_set = frozenset([\"php\", \"c++\", \"ruby\"])\n",
    "print(frozen_set)\n",
    "\n",
    "newset.clear()\n",
    "print(newset)\n",
    "\n",
    "newset1 = set([\"julia\", \"python\", \"java\"]) \n",
    "print(newset1)\n",
    "\n",
    "newset1.pop()\n",
    "print(newset1)\n",
    "\n",
    "newset1.discard(\"java\")\n",
    "print(newset1)\n"
   ]
  }
 ],
 "metadata": {
  "kernelspec": {
   "display_name": "Python 3",
   "language": "python",
   "name": "python3"
  },
  "language_info": {
   "codemirror_mode": {
    "name": "ipython",
    "version": 3
   },
   "file_extension": ".py",
   "mimetype": "text/x-python",
   "name": "python",
   "nbconvert_exporter": "python",
   "pygments_lexer": "ipython3",
   "version": "3.7.4"
  }
 },
 "nbformat": 4,
 "nbformat_minor": 4
}

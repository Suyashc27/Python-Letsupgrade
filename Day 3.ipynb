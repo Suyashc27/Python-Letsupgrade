{
 "cells": [
  {
   "cell_type": "markdown",
   "metadata": {},
   "source": [
    "# Name: Suyash Satish Choudhari\n",
    "# Assignment no:- 03"
   ]
  },
  {
   "cell_type": "code",
   "execution_count": 3,
   "metadata": {},
   "outputs": [
    {
     "name": "stdout",
     "output_type": "stream",
     "text": [
      "Enter your marks : 91\n",
      "A\n"
     ]
    }
   ],
   "source": [
    "#assignment 03- 1st  \n",
    "\n",
    "marks = int(input(\"Enter your marks : \"))\n",
    "\n",
    "if(marks<100 and marks>=85):\n",
    "    print(\"A\")\n",
    "elif(marks<85 and marks>=75):\n",
    "    print(\"B\")\n",
    "elif(marks<75 and marks>=65):\n",
    "    print(\"C\")\n",
    "elif(marks<65 and marks>=55):\n",
    "    print(\"D\")\n",
    "elif(marks<55 and marks>=45):\n",
    "    print(\"B\")\n",
    "else:\n",
    "    print(\"Fail\")"
   ]
  },
  {
   "cell_type": "code",
   "execution_count": 4,
   "metadata": {},
   "outputs": [
    {
     "name": "stdout",
     "output_type": "stream",
     "text": [
      "#Guess your Score and see your true Indian Fan or Not#\n",
      "Enter your guess in between 1 to 250:- 180\n",
      "\n",
      "computer generated score :  84\n",
      "You are not true Indian Fan\n"
     ]
    }
   ],
   "source": [
    "#assignment 03- 2nd\n",
    "\n",
    "from random import randint\n",
    "\n",
    "random_score = randint(1,250)\n",
    "print(\"#Guess your Score and see your true Indian Fan or Not#\")\n",
    "user_predict = int(input(\"Enter your guess in between 1 to 250:- \"))\n",
    "print(\"\\ncomputer generated score : \",random_score)\n",
    "\n",
    "d=abs(user_predict-random_score)\n",
    "\n",
    "if(d<=10 and d>=1):\n",
    "    print(\"Close by,You are true Indian Fan\")\n",
    "else:\n",
    "    print(\"You are not true Indian Fan\")"
   ]
  }
 ],
 "metadata": {
  "kernelspec": {
   "display_name": "Python 3",
   "language": "python",
   "name": "python3"
  },
  "language_info": {
   "codemirror_mode": {
    "name": "ipython",
    "version": 3
   },
   "file_extension": ".py",
   "mimetype": "text/x-python",
   "name": "python",
   "nbconvert_exporter": "python",
   "pygments_lexer": "ipython3",
   "version": "3.7.4"
  }
 },
 "nbformat": 4,
 "nbformat_minor": 2
}

{
 "cells": [
  {
   "cell_type": "markdown",
   "metadata": {},
   "source": [
    "# Name : Suyash Choudhari\n",
    "# Assignment No: 04"
   ]
  },
  {
   "cell_type": "code",
   "execution_count": 20,
   "metadata": {},
   "outputs": [],
   "source": [
    "def input_Module():\n",
    "    lst = []\n",
    "    i = 1\n",
    "    while(i<=8):  \n",
    "        temp = int(input())\n",
    "        lst.append(temp)\n",
    "        i += 1\n",
    "    return lst"
   ]
  },
  {
   "cell_type": "code",
   "execution_count": 16,
   "metadata": {},
   "outputs": [],
   "source": [
    "def check(list1):\n",
    "    sub_lst = [1,1,5]\n",
    "    for i in range(0,8):\n",
    "        if(list1[i] == sub_lst[0]):\n",
    "            sub_lst.pop(0)\n",
    "        if(len(sub_lst) == 0):\n",
    "            break\n",
    "    if(len(sub_lst) == 0 ):\n",
    "        return \"its a match\"\n",
    "    else:\n",
    "        return \"its gone\""
   ]
  },
  {
   "cell_type": "code",
   "execution_count": 21,
   "metadata": {},
   "outputs": [
    {
     "name": "stdout",
     "output_type": "stream",
     "text": [
      "1\n",
      "2\n",
      "5\n",
      "1\n",
      "6\n",
      "5\n",
      "7\n",
      "8\n",
      "[1, 2, 5, 1, 6, 5, 7, 8]\n",
      "its a match\n"
     ]
    }
   ],
   "source": [
    "user_list = input_Module()\n",
    "print(user_list)\n",
    "soultion = check(user_list)\n",
    "print(soultion)"
   ]
  }
 ],
 "metadata": {
  "kernelspec": {
   "display_name": "Python 3",
   "language": "python",
   "name": "python3"
  },
  "language_info": {
   "codemirror_mode": {
    "name": "ipython",
    "version": 3
   },
   "file_extension": ".py",
   "mimetype": "text/x-python",
   "name": "python",
   "nbconvert_exporter": "python",
   "pygments_lexer": "ipython3",
   "version": "3.7.4"
  }
 },
 "nbformat": 4,
 "nbformat_minor": 2
}

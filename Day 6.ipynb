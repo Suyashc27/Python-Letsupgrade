{
 "cells": [
  {
   "cell_type": "markdown",
   "metadata": {},
   "source": [
    "# Suyash Satish Choudhari\n",
    "# Assignment no:- 06"
   ]
  },
  {
   "cell_type": "code",
   "execution_count": 21,
   "metadata": {},
   "outputs": [
    {
     "name": "stdout",
     "output_type": "stream",
     "text": [
      "letsupgrade\n",
      "count =  4\n"
     ]
    }
   ],
   "source": [
    "# 6.1\n",
    "s = {'A','B','D','O','P','Q','R'}\n",
    "l1 = []\n",
    "hole=0\n",
    "li=input()\n",
    "li=li.upper()\n",
    "\n",
    "for item in li:\n",
    "    if(item in s):\n",
    "        if(item=='B'):\n",
    "            hole=hole+2\n",
    "        else:\n",
    "            hole=hole+1\n",
    "print(\"count = \",hole)\n"
   ]
  },
  {
   "cell_type": "code",
   "execution_count": 22,
   "metadata": {},
   "outputs": [
    {
     "name": "stdout",
     "output_type": "stream",
     "text": [
      "<map object at 0x000001A9B7275D88>\n",
      "[1, 8, 27, 64]\n"
     ]
    }
   ],
   "source": [
    "# 6.2\n",
    "#map\n",
    "\n",
    "def cube(x):\n",
    "    return x * x * x\n",
    "c = map(cube,[1,2,3,4])\n",
    "print(c)\n",
    "print(list(c))"
   ]
  },
  {
   "cell_type": "code",
   "execution_count": 19,
   "metadata": {},
   "outputs": [
    {
     "data": {
      "text/plain": [
       "4"
      ]
     },
     "execution_count": 19,
     "metadata": {},
     "output_type": "execute_result"
    }
   ],
   "source": [
    "# lambda\n",
    "s = lambda b: b**2\n",
    "s(2)"
   ]
  },
  {
   "cell_type": "code",
   "execution_count": 20,
   "metadata": {},
   "outputs": [
    {
     "name": "stdout",
     "output_type": "stream",
     "text": [
      "<function abc.<locals>.<lambda> at 0x000001A9B7127F78>\n",
      "14\n"
     ]
    }
   ],
   "source": [
    "def abc(x):\n",
    "    return lambda y:x+y\n",
    "\n",
    "t = abc(9)\n",
    "print(t)\n",
    "print(t(5))\n"
   ]
  }
 ],
 "metadata": {
  "kernelspec": {
   "display_name": "Python 3",
   "language": "python",
   "name": "python3"
  },
  "language_info": {
   "codemirror_mode": {
    "name": "ipython",
    "version": 3
   },
   "file_extension": ".py",
   "mimetype": "text/x-python",
   "name": "python",
   "nbconvert_exporter": "python",
   "pygments_lexer": "ipython3",
   "version": "3.7.4"
  }
 },
 "nbformat": 4,
 "nbformat_minor": 2
}

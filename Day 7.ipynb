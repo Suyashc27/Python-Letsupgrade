{
 "cells": [
  {
   "cell_type": "markdown",
   "metadata": {},
   "source": [
    "# Suyash Choudhari\n",
    "# Assignment no:- 07"
   ]
  },
  {
   "cell_type": "code",
   "execution_count": 5,
   "metadata": {},
   "outputs": [
    {
     "name": "stdout",
     "output_type": "stream",
     "text": [
      "68\n",
      "Its sum is not in single digit, try another\n",
      "62\n",
      "8\n"
     ]
    }
   ],
   "source": [
    "while(1):    \n",
    "    N=input()\n",
    "    sum=0\n",
    "    if (len(N)!=1):\n",
    "        for i in range(len(N)):\n",
    "            sum=sum+int(N[i])\n",
    "        if(len(str(sum))==1):\n",
    "            print(sum)\n",
    "            break;\n",
    "        else:\n",
    "            print(\"Its sum is not in single digit, try another\")\n",
    "        \n",
    "        "
   ]
  }
 ],
 "metadata": {
  "kernelspec": {
   "display_name": "Python 3",
   "language": "python",
   "name": "python3"
  },
  "language_info": {
   "codemirror_mode": {
    "name": "ipython",
    "version": 3
   },
   "file_extension": ".py",
   "mimetype": "text/x-python",
   "name": "python",
   "nbconvert_exporter": "python",
   "pygments_lexer": "ipython3",
   "version": "3.7.4"
  }
 },
 "nbformat": 4,
 "nbformat_minor": 2
}
